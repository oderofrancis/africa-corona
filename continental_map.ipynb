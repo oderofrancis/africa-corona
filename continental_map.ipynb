{
 "cells": [
  {
   "cell_type": "markdown",
   "metadata": {},
   "source": [
    "# GIS DATA ANALYSIS"
   ]
  },
  {
   "cell_type": "markdown",
   "metadata": {},
   "source": [
    "# Data analysis to create map visualisation"
   ]
  },
  {
   "cell_type": "markdown",
   "metadata": {},
   "source": [
    "First we merge the csv file with the world map shp(for all confirmed,death and recovery data)"
   ]
  },
  {
   "cell_type": "code",
   "execution_count": 77,
   "metadata": {},
   "outputs": [],
   "source": [
    "import pandas as pd\n",
    "import geopandas as gpd"
   ]
  },
  {
   "cell_type": "code",
   "execution_count": 76,
   "metadata": {},
   "outputs": [],
   "source": [
    "# datasets from external links that are updated\n",
    "\n",
    "confirmed=(r'https://raw.githubusercontent.com/CSSEGISandData/COVID-19/master/csse_covid_19_data/csse_covid_19_time_series/time_series_covid19_confirmed_global.csv')\n",
    "death=(r'https://raw.githubusercontent.com/CSSEGISandData/COVID-19/master/csse_covid_19_data/csse_covid_19_time_series/time_series_covid19_deaths_global.csv')\n",
    "recovered=(r'https://raw.githubusercontent.com/CSSEGISandData/COVID-19/master/csse_covid_19_data/csse_covid_19_time_series/time_series_covid19_recovered_global.csv')\n",
    "data_cont = pd.read_csv(r'https://raw.githubusercontent.com/oderofrancis/rona/main/Countries-Continents.csv')"
   ]
  },
  {
   "cell_type": "markdown",
   "metadata": {},
   "source": [
    "CONFIRMED DATA MERGING"
   ]
  },
  {
   "cell_type": "code",
   "execution_count": 85,
   "metadata": {
    "scrolled": true
   },
   "outputs": [],
   "source": [
    "# csv file\n",
    "data_confirmed = pd.read_csv(confirmed)\n",
    "data_confirmed = data_confirmed[['Country/Region',data_confirmed.columns[-1]]]\n",
    "data_confirmed.columns = ['country','death']\n",
    "\n",
    "# continent data\n",
    "data_cont.columns = ['continent','country']\n",
    "data_merge_confirmed_cont = pd.merge(left=data_cont, right=data_confirmed,\n",
    "                    how='left', right_on='country', \n",
    "                    left_on='country')\n",
    "\n",
    "# world spatial data\n",
    "world = gpd.read_file('world.geojson')\n",
    "world = world[['NAME','geometry']]\n",
    "world.columns = ['country','geometry']\n",
    "\n",
    "# data merging\n",
    "data_merge_confirmed = pd.merge(left=data_merge_confirmed_cont, \n",
    "                            right=world, how='left', \n",
    "                            left_on='country', right_on='country'\n",
    "                           )\n",
    "\n",
    "# data transformation\n",
    "geo_data_confirmed = gpd.GeoDataFrame(data_merge_confirmed)\n",
    "\n",
    "# selecting Africa\n",
    "africa_confirmed = geo_data_confirmed[geo_data_confirmed['continent']=='Africa']\n",
    "\n",
    "# plot Africa data\n",
    "\n",
    "africa_confirmed.plot(figsize=(15,20),color='white',edgecolor='black')\n",
    "\n"
   ]
  },
  {
   "cell_type": "markdown",
   "metadata": {},
   "source": [
    "DATA EXPORTING IN DIFFERENT FORMAT"
   ]
  },
  {
   "cell_type": "code",
   "execution_count": 82,
   "metadata": {},
   "outputs": [],
   "source": [
    "# geojson\n",
    "africa_confirmed.to_file(\"africa_confirmed.geojson\",driver='GeoJSON')\n",
    "# shp\n",
    "africa_confirmed.to_file(\"africa_confirmed.shp\")\n",
    "# csv\n",
    "africa_confirmed.to_file(\"africa_confirmed.csv\")\n",
    "# excel\n",
    "africa_confirmed.to_file(\"africa_confirmed.xslx\")"
   ]
  },
  {
   "cell_type": "markdown",
   "metadata": {},
   "source": [
    "DEATH DATA MERGING"
   ]
  },
  {
   "cell_type": "code",
   "execution_count": 71,
   "metadata": {},
   "outputs": [],
   "source": [
    "# csv file\n",
    "data_death = pd.read_csv(death)\n",
    "data_death = data_death[['Country/Region',data_death.columns[-1]]]\n",
    "data_death.columns = ['country','death']\n",
    "\n",
    "# continent data\n",
    "data_cont.columns = ['continent','country']\n",
    "data_merge_death_cont = pd.merge(left=data_cont, right=data_death,\n",
    "                    how='left', right_on='country', \n",
    "                    left_on='country')\n",
    "\n",
    "# world spatial data\n",
    "world = gpd.read_file('world.geojson')\n",
    "world = world[['NAME','geometry']]\n",
    "world.columns = ['country','geometry']\n",
    "\n",
    "# data merging\n",
    "data_merge_death = pd.merge(left=data_merge_death_cont, \n",
    "                            right=world, how='left', \n",
    "                            left_on='country', right_on='country'\n",
    "                           )\n",
    "\n",
    "# data transformation\n",
    "geo_data_death = gpd.GeoDataFrame(data_merge_death)\n",
    "\n",
    "# selecting Africa\n",
    "africa_death = geo_data_death[geo_data_death['continent']=='Africa']\n",
    "\n",
    "# plot Africa data\n",
    "\n",
    "africa_death.plot(figsize=(15,20),color='white',edgecolor='black')"
   ]
  },
  {
   "cell_type": "code",
   "execution_count": 83,
   "metadata": {},
   "outputs": [],
   "source": [
    "# DATA EXPORT\n",
    "\n",
    "# geojson\n",
    "africa_death.to_file(\"africa_death.geojson\",driver='GeoJSON')\n",
    "# shp\n",
    "africa_death.to_file(\"africa_death.shp\")\n",
    "# csv\n",
    "africa_death.to_file(\"africa_death.csv\")\n",
    "# excel\n",
    "africa_death.to_file(\"africa_death.xslx\")"
   ]
  },
  {
   "cell_type": "markdown",
   "metadata": {},
   "source": [
    "RECOVERY DATA MERGING"
   ]
  },
  {
   "cell_type": "code",
   "execution_count": 86,
   "metadata": {},
   "outputs": [],
   "source": [
    "# csv file\n",
    "data_recovery = pd.read_csv(recovery)\n",
    "data_recovery = data_recovery[['Country/Region',data_recovery.columns[-1]]]\n",
    "data_recovery.columns = ['country','recovery']\n",
    "\n",
    "# continent data\n",
    "data_cont.columns = ['continent','country']\n",
    "data_merge_recovery_cont = pd.merge(left=data_cont, right=data_recovery,\n",
    "                    how='left', right_on='country', \n",
    "                    left_on='country')\n",
    "\n",
    "# world spatial data\n",
    "world = gpd.read_file('world.geojson')\n",
    "world = world[['NAME','geometry']]\n",
    "world.columns = ['country','geometry']\n",
    "\n",
    "# data merging\n",
    "data_merge_recovery = pd.merge(left=data_merge_recovery_cont, \n",
    "                               right=world, how='left', \n",
    "                               left_on='country', right_on='country'\n",
    "                              )\n",
    "\n",
    "# data transformation\n",
    "geo_data_recovery = gpd.GeoDataFrame(data_merge_recovery)\n",
    "\n",
    "# selecting Africa\n",
    "africa_recovery = geo_data_recovery[geo_data_recovery['continent']=='Africa']\n",
    "\n",
    "# plot Africa data\n",
    "\n",
    "africa_recovery.plot(figsize=(15,20),color='white',edgecolor='black')"
   ]
  },
  {
   "cell_type": "code",
   "execution_count": 84,
   "metadata": {},
   "outputs": [],
   "source": [
    "# DATA EXPORT\n",
    "\n",
    "# geojson\n",
    "africa_recovery.to_file(\"africa_recovery.geojson\",driver='GeoJSON')\n",
    "# shp\n",
    "africa_recovery.to_file(\"africa_recovery.shp\")\n",
    "# csv\n",
    "africa_recovery.to_file(\"africa_recovery.csv\")\n",
    "# excel\n",
    "africa_recovery.to_file(\"africa_recovery.xslx\")"
   ]
  },
  {
   "cell_type": "markdown",
   "metadata": {},
   "source": [
    "Same algorithm can be used to create data for other continents\n",
    "\n",
    "Thank you for you time\n",
    "\n"
   ]
  },
  {
   "cell_type": "code",
   "execution_count": null,
   "metadata": {},
   "outputs": [],
   "source": []
  }
 ],
 "metadata": {
  "kernelspec": {
   "display_name": "Python 3",
   "language": "python",
   "name": "python3"
  },
  "language_info": {
   "codemirror_mode": {
    "name": "ipython",
    "version": 3
   },
   "file_extension": ".py",
   "mimetype": "text/x-python",
   "name": "python",
   "nbconvert_exporter": "python",
   "pygments_lexer": "ipython3",
   "version": "3.8.5"
  }
 },
 "nbformat": 4,
 "nbformat_minor": 4
}
